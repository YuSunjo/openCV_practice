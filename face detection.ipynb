{
 "cells": [
  {
   "cell_type": "markdown",
   "metadata": {},
   "source": [
    "#inflearn_opencv 수업\n",
    "#object detection \n",
    "#deep neural networks\n",
    "\n",
    "Haar cascade object detection  -- 장점 : 편하고 간단하게 사용 가능 \n",
    "\n"
   ]
  },
  {
   "cell_type": "code",
   "execution_count": 1,
   "metadata": {},
   "outputs": [],
   "source": [
    "import cv2\n",
    "import numpy as np"
   ]
  },
  {
   "cell_type": "code",
   "execution_count": 2,
   "metadata": {},
   "outputs": [
    {
     "name": "stdout",
     "output_type": "stream",
     "text": [
      "4.4.0\n"
     ]
    }
   ],
   "source": [
    "print(cv2.__version__)"
   ]
  },
  {
   "cell_type": "code",
   "execution_count": 7,
   "metadata": {},
   "outputs": [
    {
     "name": "stdout",
     "output_type": "stream",
     "text": [
      "width 244 \n",
      "height 206 \n",
      "channel 3 \n"
     ]
    }
   ],
   "source": [
    "def detectAndDisplay(frame):\n",
    "    frame_gray = cv2.cvtColor(frame, cv2.COLOR_BGR2GRAY)\n",
    "    frame_gray = cv2.equalizeHist(frame_gray)\n",
    "    # detect faces\n",
    "    faces = face_cascade.detectMultiScale(frame_gray)\n",
    "    \n",
    "    for (x,y,w,h) in faces:\n",
    "        center = (x+w//2, y+h//2)\n",
    "        frame = cv2.rectangle(frame, (x,y), (x+w,y+h),(0,255,0) ,4)\n",
    "        faceROI = frame_gray[y: y+h, x: x+w]\n",
    "        # each face, detect eyes \n",
    "        eyes= eyes_cascade.detectMultiScale(faceROI)\n",
    "        for (x2,y2,w2,h2) in eyes:\n",
    "            eye_center = (x+ x2+w2//2, y+y2 +h2//2)\n",
    "            radius = int(round((w2+h2) * 0.25))\n",
    "            frame = cv2.circle(frame, eye_center, radius, (255,0,0),4)\n",
    "        cv2.imshow('capture', frame)\n",
    "\n",
    "img = cv2.imread(\"./opencv_dnn_202005/opencv_dnn_202005/image/marathon_02.jpg\")\n",
    "print(\"width {} \".format(img.shape[1]))\n",
    "print(\"height {} \".format(img.shape[0]))\n",
    "print(\"channel {} \".format(img.shape[2]))\n",
    "\n",
    "(height, width) = img.shape[:2]\n",
    "cv2.imshow(\"origianl image\", img)\n",
    "\n",
    "#이미 저장되어있는 데이터를 사용 -- 단점: 예상치 못한 값이 들어오면 인식률이 떨어짐 \n",
    "face_cascade_name = 'C:/Users/tnswh/.conda\\envs/test/Lib/site-packages/cv2/data/haarcascade_frontalface_alt.xml'\n",
    "eyes_cascade_name = 'C:/Users/tnswh/.conda\\envs/test/Lib/site-packages/cv2/data/haarcascade_eye_tree_eyeglasses.xml'\n",
    "\n",
    "face_cascade = cv2.CascadeClassifier()\n",
    "eyes_cascade = cv2.CascadeClassifier()\n",
    "\n",
    "if not face_cascade.load(cv2.samples.findFile(face_cascade_name)):\n",
    "    print(\"--error loading face cascade\")\n",
    "    exit(0)\n",
    "if not eyes_cascade.load(cv2.samples.findFile(eyes_cascade_name)):\n",
    "    print(\"--error loading eyes cascade \")\n",
    "    exit(0)\n",
    "    \n",
    "detectAndDisplay(img)\n",
    "\n",
    "cv2.waitKey(0)\n",
    "cv2.destroyAllWindows()"
   ]
  },
  {
   "cell_type": "code",
   "execution_count": 8,
   "metadata": {},
   "outputs": [
    {
     "ename": "TclError",
     "evalue": "image \"pyimage6\" doesn't exist",
     "output_type": "error",
     "traceback": [
      "\u001b[1;31m---------------------------------------------------------------------------\u001b[0m",
      "\u001b[1;31mTclError\u001b[0m                                  Traceback (most recent call last)",
      "\u001b[1;32m<ipython-input-8-f0d9f6117fb2>\u001b[0m in \u001b[0;36m<module>\u001b[1;34m\u001b[0m\n\u001b[0;32m     87\u001b[0m \u001b[0msizeSpin\u001b[0m\u001b[1;33m.\u001b[0m\u001b[0mgrid\u001b[0m\u001b[1;33m(\u001b[0m\u001b[0mrow\u001b[0m\u001b[1;33m=\u001b[0m\u001b[1;36m1\u001b[0m\u001b[1;33m,\u001b[0m \u001b[0mcolumn\u001b[0m\u001b[1;33m=\u001b[0m\u001b[1;36m1\u001b[0m\u001b[1;33m)\u001b[0m\u001b[1;33m\u001b[0m\u001b[1;33m\u001b[0m\u001b[0m\n\u001b[0;32m     88\u001b[0m \u001b[0mButton\u001b[0m\u001b[1;33m(\u001b[0m\u001b[0mmain\u001b[0m\u001b[1;33m,\u001b[0m\u001b[0mtext\u001b[0m\u001b[1;33m=\u001b[0m\u001b[1;34m\"File Select\"\u001b[0m\u001b[1;33m,\u001b[0m \u001b[0mheight\u001b[0m\u001b[1;33m=\u001b[0m\u001b[1;36m2\u001b[0m\u001b[1;33m,\u001b[0m\u001b[0mcommand\u001b[0m\u001b[1;33m=\u001b[0m\u001b[1;32mlambda\u001b[0m\u001b[1;33m:\u001b[0m\u001b[0mselectFile\u001b[0m\u001b[1;33m(\u001b[0m\u001b[1;33m)\u001b[0m\u001b[1;33m)\u001b[0m\u001b[1;33m.\u001b[0m\u001b[0mgrid\u001b[0m\u001b[1;33m(\u001b[0m\u001b[0mrow\u001b[0m\u001b[1;33m=\u001b[0m\u001b[1;36m1\u001b[0m\u001b[1;33m,\u001b[0m \u001b[0mcolumn\u001b[0m\u001b[1;33m=\u001b[0m\u001b[1;36m2\u001b[0m\u001b[1;33m,\u001b[0m \u001b[0mcolumnspan\u001b[0m\u001b[1;33m=\u001b[0m\u001b[1;36m2\u001b[0m\u001b[1;33m,\u001b[0m \u001b[0msticky\u001b[0m\u001b[1;33m=\u001b[0m\u001b[1;33m(\u001b[0m\u001b[0mW\u001b[0m\u001b[1;33m,\u001b[0m \u001b[0mE\u001b[0m\u001b[1;33m)\u001b[0m\u001b[1;33m)\u001b[0m\u001b[1;33m\u001b[0m\u001b[1;33m\u001b[0m\u001b[0m\n\u001b[1;32m---> 89\u001b[1;33m \u001b[0mdetection\u001b[0m\u001b[1;33m=\u001b[0m\u001b[0mLabel\u001b[0m\u001b[1;33m(\u001b[0m\u001b[0mmain\u001b[0m\u001b[1;33m,\u001b[0m \u001b[0mimage\u001b[0m\u001b[1;33m=\u001b[0m\u001b[0mimgtk\u001b[0m\u001b[1;33m)\u001b[0m\u001b[1;33m\u001b[0m\u001b[1;33m\u001b[0m\u001b[0m\n\u001b[0m\u001b[0;32m     90\u001b[0m \u001b[0mdetection\u001b[0m\u001b[1;33m.\u001b[0m\u001b[0mgrid\u001b[0m\u001b[1;33m(\u001b[0m\u001b[0mrow\u001b[0m\u001b[1;33m=\u001b[0m\u001b[1;36m2\u001b[0m\u001b[1;33m,\u001b[0m\u001b[0mcolumn\u001b[0m\u001b[1;33m=\u001b[0m\u001b[1;36m0\u001b[0m\u001b[1;33m,\u001b[0m\u001b[0mcolumnspan\u001b[0m\u001b[1;33m=\u001b[0m\u001b[1;36m4\u001b[0m\u001b[1;33m)\u001b[0m\u001b[1;33m\u001b[0m\u001b[1;33m\u001b[0m\u001b[0m\n\u001b[0;32m     91\u001b[0m \u001b[0mdetectAndDisplay\u001b[0m\u001b[1;33m(\u001b[0m\u001b[0mread_image\u001b[0m\u001b[1;33m)\u001b[0m\u001b[1;33m\u001b[0m\u001b[1;33m\u001b[0m\u001b[0m\n",
      "\u001b[1;32m~\\.conda\\envs\\test\\lib\\tkinter\\__init__.py\u001b[0m in \u001b[0;36m__init__\u001b[1;34m(self, master, cnf, **kw)\u001b[0m\n\u001b[0;32m   2764\u001b[0m \u001b[1;33m\u001b[0m\u001b[0m\n\u001b[0;32m   2765\u001b[0m         \"\"\"\n\u001b[1;32m-> 2766\u001b[1;33m         \u001b[0mWidget\u001b[0m\u001b[1;33m.\u001b[0m\u001b[0m__init__\u001b[0m\u001b[1;33m(\u001b[0m\u001b[0mself\u001b[0m\u001b[1;33m,\u001b[0m \u001b[0mmaster\u001b[0m\u001b[1;33m,\u001b[0m \u001b[1;34m'label'\u001b[0m\u001b[1;33m,\u001b[0m \u001b[0mcnf\u001b[0m\u001b[1;33m,\u001b[0m \u001b[0mkw\u001b[0m\u001b[1;33m)\u001b[0m\u001b[1;33m\u001b[0m\u001b[1;33m\u001b[0m\u001b[0m\n\u001b[0m\u001b[0;32m   2767\u001b[0m \u001b[1;33m\u001b[0m\u001b[0m\n\u001b[0;32m   2768\u001b[0m \u001b[1;32mclass\u001b[0m \u001b[0mListbox\u001b[0m\u001b[1;33m(\u001b[0m\u001b[0mWidget\u001b[0m\u001b[1;33m,\u001b[0m \u001b[0mXView\u001b[0m\u001b[1;33m,\u001b[0m \u001b[0mYView\u001b[0m\u001b[1;33m)\u001b[0m\u001b[1;33m:\u001b[0m\u001b[1;33m\u001b[0m\u001b[1;33m\u001b[0m\u001b[0m\n",
      "\u001b[1;32m~\\.conda\\envs\\test\\lib\\tkinter\\__init__.py\u001b[0m in \u001b[0;36m__init__\u001b[1;34m(self, master, widgetName, cnf, kw, extra)\u001b[0m\n\u001b[0;32m   2297\u001b[0m             \u001b[1;32mdel\u001b[0m \u001b[0mcnf\u001b[0m\u001b[1;33m[\u001b[0m\u001b[0mk\u001b[0m\u001b[1;33m]\u001b[0m\u001b[1;33m\u001b[0m\u001b[1;33m\u001b[0m\u001b[0m\n\u001b[0;32m   2298\u001b[0m         self.tk.call(\n\u001b[1;32m-> 2299\u001b[1;33m             (widgetName, self._w) + extra + self._options(cnf))\n\u001b[0m\u001b[0;32m   2300\u001b[0m         \u001b[1;32mfor\u001b[0m \u001b[0mk\u001b[0m\u001b[1;33m,\u001b[0m \u001b[0mv\u001b[0m \u001b[1;32min\u001b[0m \u001b[0mclasses\u001b[0m\u001b[1;33m:\u001b[0m\u001b[1;33m\u001b[0m\u001b[1;33m\u001b[0m\u001b[0m\n\u001b[0;32m   2301\u001b[0m             \u001b[0mk\u001b[0m\u001b[1;33m.\u001b[0m\u001b[0mconfigure\u001b[0m\u001b[1;33m(\u001b[0m\u001b[0mself\u001b[0m\u001b[1;33m,\u001b[0m \u001b[0mv\u001b[0m\u001b[1;33m)\u001b[0m\u001b[1;33m\u001b[0m\u001b[1;33m\u001b[0m\u001b[0m\n",
      "\u001b[1;31mTclError\u001b[0m: image \"pyimage6\" doesn't exist"
     ]
    }
   ],
   "source": [
    "import cv2\n",
    "import numpy as np\n",
    "from tkinter import *\n",
    "from PIL import Image\n",
    "from PIL import ImageTk\n",
    "from tkinter import filedialog\n",
    "\n",
    "\n",
    "face_cascade_name = 'C:/Users/tnswh/.conda\\envs/test/Lib/site-packages/cv2/data/haarcascade_frontalface_alt.xml'\n",
    "eyes_cascade_name = 'C:/Users/tnswh/.conda\\envs/test/Lib/site-packages/cv2/data/haarcascade_eye_tree_eyeglasses.xml'\n",
    "file_name = './opencv_dnn_202005/opencv_dnn_202005/image/marathon_01.jpg'\n",
    "title_name = 'Haar cascade object detection'\n",
    "frame_width = 500\n",
    "\n",
    "def selectFile():\n",
    "    file_name =  filedialog.askopenfilename(initialdir = \"./\",\n",
    "                                            title = \"Select file\",filetypes = ((\"jpeg files\",\"*.jpg\"),(\"all files\",\"*.*\")))\n",
    "    print('File name : ', file_name)\n",
    "    read_image = cv2.imread(file_name)\n",
    "    (height, width) = read_image.shape[:2]\n",
    "    frameSize = int(sizeSpin.get())\n",
    "    ratio = frameSize / width\n",
    "    dimension = (frameSize, int(height * ratio))\n",
    "    read_image = cv2.resize(read_image, dimension, interpolation = cv2.INTER_AREA)\n",
    "    image = cv2.cvtColor(read_image, cv2.COLOR_BGR2RGB)\n",
    "    image = Image.fromarray(image)\n",
    "    imgtk = ImageTk.PhotoImage(image=image)\n",
    "    detectAndDisplay(read_image)\n",
    "\n",
    "def detectAndDisplay(frame):\n",
    "    frame_gray = cv2.cvtColor(frame, cv2.COLOR_BGR2GRAY)\n",
    "    frame_gray = cv2.equalizeHist(frame_gray)\n",
    "    # detect faces\n",
    "    faces = face_cascade.detectMultiScale(frame_gray)\n",
    "    \n",
    "    for (x,y,w,h) in faces:\n",
    "        center = (x+w//2, y+h//2)\n",
    "        frame = cv2.rectangle(frame, (x,y), (x+w,y+h),(0,255,0) ,4)\n",
    "        faceROI = frame_gray[y: y+h, x: x+w]\n",
    "        # each face, detect eyes \n",
    "        eyes= eyes_cascade.detectMultiScale(faceROI)\n",
    "        for (x2,y2,w2,h2) in eyes:\n",
    "            eye_center = (x+ x2+w2//2, y+y2 +h2//2)\n",
    "            radius = int(round((w2+h2) * 0.25))\n",
    "            frame = cv2.circle(frame, eye_center, radius, (255,0,0),4)\n",
    "        #cv2.imshow('capture', frame)\n",
    "        image = cv2.cvtColor(frame, cv2.COLOR_BGR2RGB)\n",
    "        image = Image.fromarray(image)\n",
    "        imgtk = ImageTk.PhotoImage(image=image)\n",
    "        detection.config(image=imgtk)\n",
    "        detection.image = imgtk\n",
    "\n",
    "main = Tk()\n",
    "main.title(title_name)\n",
    "main.geometry()\n",
    "\n",
    "read_image = cv2.imread(\"./opencv_dnn_202005/opencv_dnn_202005/image/marathon_02.jpg\")\n",
    "(height, width) = read_image.shape[:2]\n",
    "ratio = frame_width/width\n",
    "dimension = (frame_width, int(height*ratio))\n",
    "read_image = cv2.resize(read_image, dimension, interpolation = cv2.INTER_AREA)\n",
    "\n",
    "image = cv2.cvtColor(read_image, cv2.COLOR_BGR2RGB)\n",
    "image=Image.fromarray(image)\n",
    "imgtk = ImageTk.PhotoImage(image=image)\n",
    "\n",
    "face_cascade_name = 'C:/Users/tnswh/.conda\\envs/test/Lib/site-packages/cv2/data/haarcascade_frontalface_alt.xml'\n",
    "eyes_cascade_name = 'C:/Users/tnswh/.conda\\envs/test/Lib/site-packages/cv2/data/haarcascade_eye_tree_eyeglasses.xml'\n",
    "\n",
    "face_cascade = cv2.CascadeClassifier()\n",
    "eyes_cascade = cv2.CascadeClassifier()\n",
    "\n",
    "if not face_cascade.load(cv2.samples.findFile(face_cascade_name)):\n",
    "    print(\"--error loading face cascade\")\n",
    "    exit(0)\n",
    "if not eyes_cascade.load(cv2.samples.findFile(eyes_cascade_name)):\n",
    "    print(\"--error loading eyes cascade \")\n",
    "    exit(0)\n",
    "    \n",
    "label=Label(main, text=title_name)\n",
    "label.config(font=(\"Courier\", 18))\n",
    "label.grid(row=0,column=0,columnspan=4)\n",
    "sizeLabel=Label(main, text='Frame Width : ')                \n",
    "sizeLabel.grid(row=1,column=0)\n",
    "sizeVal  = IntVar(value=frame_width)\n",
    "sizeSpin = Spinbox(main, textvariable=sizeVal,from_=0, to=2000, increment=100, justify=RIGHT)\n",
    "sizeSpin.grid(row=1, column=1)\n",
    "Button(main,text=\"File Select\", height=2,command=lambda:selectFile()).grid(row=1, column=2, columnspan=2, sticky=(W, E))\n",
    "detection=Label(main, image=imgtk)\n",
    "detection.grid(row=2,column=0,columnspan=4)\n",
    "detectAndDisplay(read_image)\n",
    "\n",
    "main.mainloop()\n",
    "    "
   ]
  },
  {
   "cell_type": "code",
   "execution_count": null,
   "metadata": {},
   "outputs": [],
   "source": []
  }
 ],
 "metadata": {
  "kernelspec": {
   "display_name": "Python 3",
   "language": "python",
   "name": "python3"
  },
  "language_info": {
   "codemirror_mode": {
    "name": "ipython",
    "version": 3
   },
   "file_extension": ".py",
   "mimetype": "text/x-python",
   "name": "python",
   "nbconvert_exporter": "python",
   "pygments_lexer": "ipython3",
   "version": "3.7.9"
  }
 },
 "nbformat": 4,
 "nbformat_minor": 4
}

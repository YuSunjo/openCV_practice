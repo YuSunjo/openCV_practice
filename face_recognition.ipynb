{
 "cells": [
  {
   "cell_type": "markdown",
   "metadata": {},
   "source": [
    "#knn - 간단한데 정확도가 높진 않음 \n",
    "\n",
    "\n"
   ]
  },
  {
   "cell_type": "code",
   "execution_count": 2,
   "metadata": {},
   "outputs": [
    {
     "name": "stdout",
     "output_type": "stream",
     "text": [
      "=== A frame took 84.588 seconds\n"
     ]
    }
   ],
   "source": [
    "import cv2\n",
    "import face_recognition\n",
    "import pickle\n",
    "import time\n",
    "\n",
    "image_file = 'opencv_dnn_202005/opencv_dnn_202005/image/marathon_01.jpg'\n",
    "encoding_file = 'opencv_dnn_202005/opencv_dnn_202005/encodings.pickle'\n",
    "unknown_name = 'Unknown'\n",
    "# Either cnn  or hog. The CNN method is more accurate but slower. HOG is faster but less accurate.\n",
    "model_method = 'cnn'\n",
    "\n",
    "def detectAndDisplay(image):\n",
    "    start_time = time.time()\n",
    "    rgb = cv2.cvtColor(image, cv2.COLOR_BGR2RGB)\n",
    "    \n",
    "    boxes = face_recognition.face_locations(rgb,\n",
    "        model=model_method)\n",
    "    encodings = face_recognition.face_encodings(rgb, boxes)\n",
    "    \n",
    "    names = []\n",
    "    \n",
    "    # loop over the facial embeddings\n",
    "    for encoding in encodings:\n",
    "        # attempt to match each face in the input image to our known\n",
    "        # encodings\n",
    "        matches = face_recognition.compare_faces(data[\"encodings\"],\n",
    "            encoding)\n",
    "        name = unknown_name\n",
    "        \n",
    "        # check to see if we have found a match\n",
    "        if True in matches:\n",
    "            # find the indexes of all matched faces then initialize a\n",
    "            # dictionary to count the total number of times each face\n",
    "            # was matched\n",
    "            matchedIdxs = [i for (i, b) in enumerate(matches) if b]\n",
    "            counts = {}\n",
    "\n",
    "            # loop over the matched indexes and maintain a count for\n",
    "            # each recognized face face\n",
    "            for i in matchedIdxs:\n",
    "                name = data[\"names\"][i]\n",
    "                counts[name] = counts.get(name, 0) + 1\n",
    "\n",
    "            # determine the recognized face with the largest number of\n",
    "            # votes (note: in the event of an unlikely tie Python will\n",
    "            # select first entry in the dictionary)\n",
    "            #가장 많은 이름이 나온 사람을 출력 \n",
    "            name = max(counts, key=counts.get)\n",
    "        \n",
    "        # update the list of names\n",
    "        names.append(name)\n",
    "        \n",
    "    # loop over the recognized faces\n",
    "    for ((top, right, bottom, left), name) in zip(boxes, names):\n",
    "        # draw the predicted face name on the image\n",
    "        y = top - 15 if top - 15 > 15 else top + 15\n",
    "        color = (0, 255, 0)\n",
    "        line = 2\n",
    "        if(name == unknown_name):\n",
    "            color = (0, 0, 255)\n",
    "            line = 1\n",
    "            name = ''\n",
    "            \n",
    "        cv2.rectangle(image, (left, top), (right, bottom), color, line)\n",
    "        y = top - 15 if top - 15 > 15 else top + 15\n",
    "        cv2.putText(image, name, (left, y), cv2.FONT_HERSHEY_SIMPLEX,\n",
    "            0.75, color, line)\n",
    "\n",
    "    end_time = time.time()\n",
    "    process_time = end_time - start_time\n",
    "    print(\"=== A frame took {:.3f} seconds\".format(process_time))\n",
    "    # show the output image\n",
    "    cv2.imshow(\"Recognition\", image)\n",
    "\n",
    "\n",
    "\n",
    "data = pickle.loads(open(encoding_file, \"rb\").read())\n",
    "\n",
    "# load the input image\n",
    "image = cv2.imread(image_file)\n",
    "detectAndDisplay(image)\n",
    "\n",
    "cv2.waitKey(0)\n",
    "cv2.destroyAllWindows()"
   ]
  },
  {
   "cell_type": "code",
   "execution_count": null,
   "metadata": {},
   "outputs": [],
   "source": []
  }
 ],
 "metadata": {
  "kernelspec": {
   "display_name": "Python 3",
   "language": "python",
   "name": "python3"
  },
  "language_info": {
   "codemirror_mode": {
    "name": "ipython",
    "version": 3
   },
   "file_extension": ".py",
   "mimetype": "text/x-python",
   "name": "python",
   "nbconvert_exporter": "python",
   "pygments_lexer": "ipython3",
   "version": "3.7.9"
  }
 },
 "nbformat": 4,
 "nbformat_minor": 4
}

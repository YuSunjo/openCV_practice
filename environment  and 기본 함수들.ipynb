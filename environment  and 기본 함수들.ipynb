{
 "cells": [
  {
   "cell_type": "markdown",
   "metadata": {},
   "source": [
    "#vector와 bitmap의 차이 "
   ]
  },
  {
   "cell_type": "markdown",
   "metadata": {},
   "source": [
    "anaconda에서 가상환경 만들어서 사용 - 환경마다 버전을 다르게 사용할 수 있다. <br>\n",
    "명령어<br>\n",
    "conda create -n py3 python=3<br>\n",
    "conda info --envs<br>\n",
    "source activate py3<br>\n",
    "source deactivate<br>\n",
    "conda remove --name py3 --all<br>\n",
    "conda create -n py3-new --clone py3<br>"
   ]
  },
  {
   "cell_type": "markdown",
   "metadata": {},
   "source": [
    "#conda create --name <이름> python=3.7\n",
    "#pip list \n"
   ]
  },
  {
   "cell_type": "markdown",
   "metadata": {},
   "source": [
    "import cv2\n",
    "import numpy as np"
   ]
  },
  {
   "cell_type": "markdown",
   "metadata": {},
   "source": [
    "print(cv2.__version__)"
   ]
  },
  {
   "cell_type": "markdown",
   "metadata": {},
   "source": [
    "img = cv2.imread(\"\")\n",
    "gray = cv2.cvtColor(img, cv2.COLOR_BGR2GRAY)\n",
    "cv2.imshow(\"\",img)\n",
    "cv2.imshow(\"\",gray)\n",
    "\n",
    "cv2.waitKey(0)\n",
    "cv2.destroyAllWindows\n"
   ]
  },
  {
   "cell_type": "code",
   "execution_count": 2,
   "metadata": {},
   "outputs": [],
   "source": [
    "import cv2"
   ]
  },
  {
   "cell_type": "code",
   "execution_count": 3,
   "metadata": {},
   "outputs": [
    {
     "name": "stdout",
     "output_type": "stream",
     "text": [
      "width: 546\n",
      "height: 404\n",
      "channel: 3\n"
     ]
    }
   ],
   "source": [
    "img = cv2.imread(\"cat1.jpeg\")\n",
    "print(\"width: {}\".format(img.shape[1]))\n",
    "print(\"height: {}\".format(img.shape[0]))\n",
    "print(\"channel: {}\".format(img.shape[2]))   #RGB\n",
    "\n",
    "cv2.imshow(\"cat1\",img)\n"
   ]
  },
  {
   "cell_type": "code",
   "execution_count": 9,
   "metadata": {},
   "outputs": [
    {
     "name": "stdout",
     "output_type": "stream",
     "text": [
      "width: 546\n",
      "height: 404\n",
      "channel: 3\n",
      "pixel at (0,0) -Red: 22, Green:69, blue:53\n"
     ]
    }
   ],
   "source": [
    "import cv2\n",
    "img = cv2.imread(\"cat1.jpeg\")\n",
    "print(\"width: {}\".format(img.shape[1]))\n",
    "print(\"height: {}\".format(img.shape[0]))\n",
    "print(\"channel: {}\".format(img.shape[2]))   #RGB\n",
    "\n",
    "cv2.imshow(\"cat1\",img)\n",
    "(b,g,r) = img[0,0]                           #rgb가 아니라 bgr\n",
    "print(\"pixel at (0,0) -Red: {}, Green:{}, blue:{}\".format(r,g,b))\n",
    "\n",
    "dot = img[50:100, 50: 100]\n",
    "#cv2.imshow(\"Dot\",dot)\n",
    "\n",
    "img[50:100, 50:100] = (0,0,255)\n",
    "\n",
    "#cv2.imshow(\"cat1-dotted\",img)\n",
    "\n",
    "cv2.rectangle(img, (150,50), (200,100), (0,255,0),5)    #사각형 그려주기 \n",
    "# cv2.imshow(\"cat1 - draw\",img)\n",
    "\n",
    "cv2.circle(img, (275,75),25, (0,255,255),-1)\n",
    "#cv2.imshow(\"cat1-draw\", img)\n",
    "\n",
    "cv2.line(img, (350,100), (400,100), (255,0,0,),5)\n",
    "#cv2.imshow(\"cat1 - draw\",img)\n",
    "\n",
    "cv2.putText(img, 'sunjo',(450,100), cv2.FONT_HERSHEY_SIMPLEX, 1,(255,255,255),4)  \n",
    "cv2.imshow(\"cat1-draw\",img)\n",
    "\n",
    "cv2.waitKey(0)\n",
    "cv2.destroyAllWindows()"
   ]
  },
  {
   "cell_type": "code",
   "execution_count": 10,
   "metadata": {},
   "outputs": [
    {
     "name": "stdout",
     "output_type": "stream",
     "text": [
      "width: 546\n",
      "height: 404\n",
      "channel: 3\n"
     ]
    }
   ],
   "source": [
    "import cv2\n",
    "import numpy as np\n",
    "img = cv2.imread(\"cat1.jpeg\")\n",
    "print(\"width: {}\".format(img.shape[1]))\n",
    "print(\"height: {}\".format(img.shape[0]))\n",
    "print(\"channel: {}\".format(img.shape[2]))   #RGB\n",
    "\n",
    "(height , width) = img.shape[:2]\n",
    "center = (width//2, height//2)\n",
    "\n",
    "cv2.imshow(\"cat1\",img)\n",
    "\n",
    "move = np.float32([[1,0,100], [0,1,100]])               #오른쪽 아래 \n",
    "moved = cv2.warpAffine(img, move ,(width, height))      #이동할 때 쓰는 함수 \n",
    "cv2.imshow(\"moved down: +, up: -and right: +, left -\", moved)\n",
    "\n",
    "cv2.waitKey(0)\n",
    "cv2.destroyAllWindows()"
   ]
  },
  {
   "cell_type": "code",
   "execution_count": 11,
   "metadata": {},
   "outputs": [
    {
     "name": "stdout",
     "output_type": "stream",
     "text": [
      "width: 546\n",
      "height: 404\n",
      "channel: 3\n"
     ]
    }
   ],
   "source": [
    "import cv2\n",
    "import numpy as np\n",
    "img = cv2.imread(\"cat1.jpeg\")\n",
    "print(\"width: {}\".format(img.shape[1]))\n",
    "print(\"height: {}\".format(img.shape[0]))\n",
    "print(\"channel: {}\".format(img.shape[2]))   #RGB\n",
    "\n",
    "(height , width) = img.shape[:2]\n",
    "center = (width//2, height//2)\n",
    "\n",
    "cv2.imshow(\"cat1\",img)\n",
    "\n",
    "move = cv2.getRotationMatrix2D(center, 90,1.0)   #center 각도, 크기\n",
    "rotated = cv2.warpAffine(img, move, (width, height))\n",
    "cv2.imshow(\"Rotated degrees\", rotated)\n",
    "\n",
    "cv2.waitKey(0)\n",
    "cv2.destroyAllWindows()"
   ]
  },
  {
   "cell_type": "code",
   "execution_count": 13,
   "metadata": {},
   "outputs": [
    {
     "name": "stdout",
     "output_type": "stream",
     "text": [
      "width: 546\n",
      "height: 404\n",
      "channel: 3\n"
     ]
    }
   ],
   "source": [
    "import cv2\n",
    "import numpy as np\n",
    "img = cv2.imread(\"cat1.jpeg\")\n",
    "print(\"width: {}\".format(img.shape[1]))\n",
    "print(\"height: {}\".format(img.shape[0]))\n",
    "print(\"channel: {}\".format(img.shape[2]))   #RGB\n",
    "\n",
    "(height , width) = img.shape[:2]\n",
    "center = (width//2, height//2)\n",
    "\n",
    "cv2.imshow(\"cat1\",img)\n",
    "\n",
    "ratio = 200.0/width\n",
    "dimension = (200,int(height * ratio))\n",
    "\n",
    "resized = cv2.resize(img,dimension, interpolation = cv2.INTER_AREA)     #확대 - inter_linear, 축소 - inter_area\n",
    "cv2.imshow(\"Resized\", resized)\n",
    "\n",
    "cv2.waitKey(0)\n",
    "cv2.destroyAllWindows()"
   ]
  },
  {
   "cell_type": "code",
   "execution_count": 14,
   "metadata": {},
   "outputs": [
    {
     "name": "stdout",
     "output_type": "stream",
     "text": [
      "width: 546\n",
      "height: 404\n",
      "channel: 3\n"
     ]
    }
   ],
   "source": [
    "import cv2\n",
    "import numpy as np\n",
    "img = cv2.imread(\"cat1.jpeg\")\n",
    "print(\"width: {}\".format(img.shape[1]))\n",
    "print(\"height: {}\".format(img.shape[0]))\n",
    "print(\"channel: {}\".format(img.shape[2]))   #RGB\n",
    "\n",
    "(height , width) = img.shape[:2]\n",
    "center = (width//2, height//2)\n",
    "\n",
    "cv2.imshow(\"cat1\",img)\n",
    "\n",
    "flipped = cv2.flip(img,1)    \n",
    "cv2.imshow(\"fileed horizontal 1, vertical 0, both -1\", flipped)\n",
    "\n",
    "cv2.waitKey(0)\n",
    "cv2.destroyAllWindows()"
   ]
  },
  {
   "cell_type": "code",
   "execution_count": 20,
   "metadata": {},
   "outputs": [
    {
     "name": "stdout",
     "output_type": "stream",
     "text": [
      "width: 546\n",
      "height: 404\n",
      "channel: 3\n"
     ]
    }
   ],
   "source": [
    "#마스킹 \n",
    "import cv2\n",
    "import numpy as np\n",
    "img = cv2.imread(\"cat1.jpeg\")\n",
    "print(\"width: {}\".format(img.shape[1]))\n",
    "print(\"height: {}\".format(img.shape[0]))\n",
    "print(\"channel: {}\".format(img.shape[2]))   #RGB\n",
    "\n",
    "(height , width) = img.shape[:2]\n",
    "center = (width//2, height//2)\n",
    "\n",
    "cv2.imshow(\"cat1\",img)\n",
    "\n",
    "mask = np.zeros(img.shape[:2], dtype = \"uint8\")\n",
    "cv2.circle(mask, center, 200, (255,255,255),-1)\n",
    "\n",
    "cv2.imshow(\"mask\",mask)\n",
    "\n",
    "masked = cv2.bitwise_and(img,img,mask=mask)\n",
    "cv2.imshow(\"mask\", masked)\n",
    "\n",
    "cv2.waitKey(0)\n",
    "cv2.destroyAllWindows()"
   ]
  },
  {
   "cell_type": "code",
   "execution_count": 5,
   "metadata": {},
   "outputs": [
    {
     "name": "stdout",
     "output_type": "stream",
     "text": [
      "width: 546\n",
      "height: 404\n",
      "channel: 3\n"
     ]
    }
   ],
   "source": [
    "#channel --RGB \n",
    "\n",
    "import cv2\n",
    "import numpy as np\n",
    "img = cv2.imread(\"cat1.jpeg\")\n",
    "print(\"width: {}\".format(img.shape[1]))\n",
    "print(\"height: {}\".format(img.shape[0]))\n",
    "print(\"channel: {}\".format(img.shape[2]))   #RGB\n",
    "\n",
    "(height , width) = img.shape[:2]\n",
    "center = (width//2, height//2)\n",
    "\n",
    "cv2.imshow(\"cat1\",img)\n",
    "\n",
    "(Blue, Green, Red) = cv2.split(img)\n",
    "\n",
    "cv2.imshow(\"Red channel\", Red)\n",
    "cv2.imshow(\"green channel\", Green)\n",
    "cv2.imshow(\"Blue channel\", Blue)\n",
    "cv2.waitKey(0)\n",
    "\n",
    "zeros = np.zeros(img.shape[:2], dtype = \"uint8\") \n",
    "cv2.imshow(\"Red\", cv2.merge([zeros, zeros, Red]))                  #Red만 보이게\n",
    "cv2.imshow(\"Green\", cv2.merge([zeros, Green , zeros]))\n",
    "cv2.imshow(\"Blue\", cv2.merge([Blue, zeros, zeros]))\n",
    "cv2.waitKey(0)\n",
    "\n",
    "gray = cv2.cvtColor(img, cv2.COLOR_BGR2GRAY)\n",
    "cv2.imshow(\"Gray filter\", gray)\n",
    "hsv = cv2.cvtColor(img, cv2.COLOR_BGR2HSV)\n",
    "cv2.imshow(\"Gray filter\", hsv)\n",
    "lab = cv2.cvtColor(img, cv2.COLOR_BGR2LAB)\n",
    "cv2.imshow(\"Gray filter\", lab)\n",
    "cv2.waitKey(0)\n",
    "\n",
    "BGR = cv2.merge([Blue, Green, Red])\n",
    "cv2.imshow(\"blue, green and red \", BGR)\n",
    "\n",
    "cv2.waitKey(0)\n",
    "cv2.destroyAllWindows()"
   ]
  },
  {
   "cell_type": "code",
   "execution_count": null,
   "metadata": {},
   "outputs": [],
   "source": []
  }
 ],
 "metadata": {
  "kernelspec": {
   "display_name": "Python 3",
   "language": "python",
   "name": "python3"
  },
  "language_info": {
   "codemirror_mode": {
    "name": "ipython",
    "version": 3
   },
   "file_extension": ".py",
   "mimetype": "text/x-python",
   "name": "python",
   "nbconvert_exporter": "python",
   "pygments_lexer": "ipython3",
   "version": "3.7.9"
  }
 },
 "nbformat": 4,
 "nbformat_minor": 4
}
